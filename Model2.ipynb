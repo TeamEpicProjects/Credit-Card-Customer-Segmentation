{
 "cells": [
  {
   "cell_type": "code",
   "execution_count": null,
   "metadata": {
    "colab": {
     "base_uri": "https://localhost:8080/"
    },
    "id": "niLqPklPh9w4",
    "outputId": "568d2dde-18db-4fb8-a2cc-31de333c6a39"
   },
   "outputs": [
    {
     "name": "stdout",
     "output_type": "stream",
     "text": [
      "/usr/bin/python3\n",
      "3.7.11\n"
     ]
    }
   ],
   "source": [
    "\n",
    "import sys\n",
    "print(sys.executable)\n",
    "import platform\n",
    "print(platform.python_version())"
   ]
  },
  {
   "cell_type": "code",
   "execution_count": null,
   "metadata": {
    "id": "pRS5-LfxmtNp"
   },
   "outputs": [],
   "source": [
    "# Data handling\n",
    "import pandas as pd \n",
    "import numpy as np\n",
    "\n",
    "# Clustering\n",
    "from sklearn.preprocessing import StandardScaler, normalize\n",
    "from sklearn.cluster import KMeans\n",
    "from sklearn.metrics import silhouette_score\n",
    "\n",
    "# Dimensionality reduction\n",
    "from sklearn.decomposition import PCA\n",
    "\n",
    "# Visualization\n",
    "import seaborn as sns\n",
    "import matplotlib.pyplot as plt\n",
    "import matplotlib.style as style\n",
    "%matplotlib inline"
   ]
  },
  {
   "cell_type": "code",
   "execution_count": null,
   "metadata": {
    "colab": {
     "base_uri": "https://localhost:8080/",
     "height": 224
    },
    "id": "nAcnpjwPgH-8",
    "outputId": "2467e9c6-f189-4a8f-d84a-1fd170e57a7c"
   },
   "outputs": [
    {
     "data": {
      "text/html": [
       "<div>\n",
       "<style scoped>\n",
       "    .dataframe tbody tr th:only-of-type {\n",
       "        vertical-align: middle;\n",
       "    }\n",
       "\n",
       "    .dataframe tbody tr th {\n",
       "        vertical-align: top;\n",
       "    }\n",
       "\n",
       "    .dataframe thead th {\n",
       "        text-align: right;\n",
       "    }\n",
       "</style>\n",
       "<table border=\"1\" class=\"dataframe\">\n",
       "  <thead>\n",
       "    <tr style=\"text-align: right;\">\n",
       "      <th></th>\n",
       "      <th>BALANCE</th>\n",
       "      <th>BALANCE_FREQUENCY</th>\n",
       "      <th>PURCHASES</th>\n",
       "      <th>INSTALLMENTS_PURCHASES</th>\n",
       "      <th>CASH_ADVANCE</th>\n",
       "      <th>PURCHASES_FREQUENCY</th>\n",
       "      <th>PURCHASES_INSTALLMENTS_FREQUENCY</th>\n",
       "      <th>CASH_ADVANCE_FREQUENCY</th>\n",
       "      <th>CASH_ADVANCE_TRX</th>\n",
       "      <th>PURCHASES_TRX</th>\n",
       "      <th>CREDIT_LIMIT</th>\n",
       "      <th>PAYMENTS</th>\n",
       "    </tr>\n",
       "  </thead>\n",
       "  <tbody>\n",
       "    <tr>\n",
       "      <th>0</th>\n",
       "      <td>40.90</td>\n",
       "      <td>0.82</td>\n",
       "      <td>95.40</td>\n",
       "      <td>95.4</td>\n",
       "      <td>0.00</td>\n",
       "      <td>0.17</td>\n",
       "      <td>0.08</td>\n",
       "      <td>0.00</td>\n",
       "      <td>0</td>\n",
       "      <td>2</td>\n",
       "      <td>1000.0</td>\n",
       "      <td>201.80</td>\n",
       "    </tr>\n",
       "    <tr>\n",
       "      <th>1</th>\n",
       "      <td>3202.47</td>\n",
       "      <td>0.91</td>\n",
       "      <td>0.00</td>\n",
       "      <td>0.0</td>\n",
       "      <td>6442.95</td>\n",
       "      <td>0.00</td>\n",
       "      <td>0.00</td>\n",
       "      <td>0.25</td>\n",
       "      <td>4</td>\n",
       "      <td>0</td>\n",
       "      <td>7000.0</td>\n",
       "      <td>4103.03</td>\n",
       "    </tr>\n",
       "    <tr>\n",
       "      <th>2</th>\n",
       "      <td>2495.15</td>\n",
       "      <td>1.00</td>\n",
       "      <td>773.17</td>\n",
       "      <td>0.0</td>\n",
       "      <td>0.00</td>\n",
       "      <td>1.00</td>\n",
       "      <td>0.00</td>\n",
       "      <td>0.00</td>\n",
       "      <td>0</td>\n",
       "      <td>12</td>\n",
       "      <td>7500.0</td>\n",
       "      <td>622.07</td>\n",
       "    </tr>\n",
       "    <tr>\n",
       "      <th>3</th>\n",
       "      <td>1666.67</td>\n",
       "      <td>0.64</td>\n",
       "      <td>1499.00</td>\n",
       "      <td>0.0</td>\n",
       "      <td>205.79</td>\n",
       "      <td>0.08</td>\n",
       "      <td>0.00</td>\n",
       "      <td>0.08</td>\n",
       "      <td>1</td>\n",
       "      <td>1</td>\n",
       "      <td>7500.0</td>\n",
       "      <td>0.00</td>\n",
       "    </tr>\n",
       "    <tr>\n",
       "      <th>4</th>\n",
       "      <td>817.71</td>\n",
       "      <td>1.00</td>\n",
       "      <td>16.00</td>\n",
       "      <td>0.0</td>\n",
       "      <td>0.00</td>\n",
       "      <td>0.08</td>\n",
       "      <td>0.00</td>\n",
       "      <td>0.00</td>\n",
       "      <td>0</td>\n",
       "      <td>1</td>\n",
       "      <td>1200.0</td>\n",
       "      <td>678.33</td>\n",
       "    </tr>\n",
       "  </tbody>\n",
       "</table>\n",
       "</div>"
      ],
      "text/plain": [
       "   BALANCE  BALANCE_FREQUENCY  PURCHASES  ...  PURCHASES_TRX  CREDIT_LIMIT  PAYMENTS\n",
       "0    40.90               0.82      95.40  ...              2        1000.0    201.80\n",
       "1  3202.47               0.91       0.00  ...              0        7000.0   4103.03\n",
       "2  2495.15               1.00     773.17  ...             12        7500.0    622.07\n",
       "3  1666.67               0.64    1499.00  ...              1        7500.0      0.00\n",
       "4   817.71               1.00      16.00  ...              1        1200.0    678.33\n",
       "\n",
       "[5 rows x 12 columns]"
      ]
     },
     "execution_count": 26,
     "metadata": {
      "tags": []
     },
     "output_type": "execute_result"
    }
   ],
   "source": [
    "def load_preprocess_data():\n",
    "    \"\"\" Load and preprocess data\n",
    "    \"\"\"\n",
    "    # load dataset\n",
    "    df = pd.read_csv('/content/sample_data/data_credit_card_customer_seg.csv')\n",
    "    \n",
    "    # handle missing values by replace it by means\n",
    "    df['CREDIT_LIMIT'].fillna(df['CREDIT_LIMIT'].mean(), inplace=True)\n",
    "    \n",
    "    # drop unnecessary column\n",
    "    df = df.drop(['CUST_ID', 'ONEOFF_PURCHASES','ONEOFF_PURCHASES_FREQUENCY','MINIMUM_PAYMENTS', 'PRC_FULL_PAYMENT','TENURE'], axis=1)\n",
    "    df= df.round(2)\n",
    "    return  df\n",
    "\n",
    "df = load_preprocess_data()\n",
    "df.head()"
   ]
  },
  {
   "cell_type": "code",
   "execution_count": null,
   "metadata": {
    "id": "OIVE64THfDRT"
   },
   "outputs": [],
   "source": []
  },
  {
   "cell_type": "markdown",
   "metadata": {
    "id": "UTAPm7-Z1VQc"
   },
   "source": [
    "# **1. Data Normalization**"
   ]
  },
  {
   "cell_type": "code",
   "execution_count": null,
   "metadata": {
    "id": "DLsxw7HOhzx5"
   },
   "outputs": [],
   "source": [
    "# Data Standardization(Z-score Normalization)\n",
    "scaler = StandardScaler()\n",
    "scaled_df = scaler.fit_transform(df)"
   ]
  },
  {
   "cell_type": "code",
   "execution_count": null,
   "metadata": {
    "colab": {
     "base_uri": "https://localhost:8080/"
    },
    "id": "wUjw5ymmhz12",
    "outputId": "32c76195-a4c0-415a-f870-6c7cde3d5cbf"
   },
   "outputs": [
    {
     "data": {
      "text/plain": [
       "(8950, 12)"
      ]
     },
     "execution_count": 28,
     "metadata": {
      "tags": []
     },
     "output_type": "execute_result"
    }
   ],
   "source": [
    "scaled_df.shape"
   ]
  },
  {
   "cell_type": "markdown",
   "metadata": {
    "id": "BWmfvdEMqBTq"
   },
   "source": [
    "# **2. Autoencoder**"
   ]
  },
  {
   "cell_type": "markdown",
   "metadata": {
    "id": "qff9nVWhrDah"
   },
   "source": [
    "1. Autoencoder a type of nn to perform data encoding\n",
    "2. Unsupervised learning with encoding and decoding\n",
    "3. fit the model with the same input and output\n",
    "4. Adding a bottle neck in the network\n",
    "5. Work well for correlated data"
   ]
  },
  {
   "cell_type": "code",
   "execution_count": null,
   "metadata": {
    "id": "zhm3icmkrAyx"
   },
   "outputs": [],
   "source": [
    "import tensorflow as tf\n",
    "from tensorflow.keras import Input\n",
    "from tensorflow.keras.layers import Dense\n",
    "from tensorflow.keras.models import Model, Sequential"
   ]
  },
  {
   "cell_type": "markdown",
   "metadata": {
    "id": "PtMTDMTcAQ6K"
   },
   "source": [
    "### 2.1 create a model"
   ]
  },
  {
   "cell_type": "code",
   "execution_count": null,
   "metadata": {
    "id": "bJtkz1BErNT1"
   },
   "outputs": [],
   "source": [
    "# create a model\n",
    "input_df = Input( shape = (12, ))\n",
    "\n",
    "x = Dense(7, activation = 'relu')(input_df)\n",
    "\n",
    "x = Dense(500, activation = 'relu', kernel_initializer='glorot_uniform')(x)\n",
    "\n",
    "x = Dense(500, activation = 'relu', kernel_initializer='glorot_uniform')(x)\n",
    "\n",
    "x = Dense(2000, activation = 'relu', kernel_initializer='glorot_uniform')(x)\n",
    "\n",
    "encoded = Dense(10, activation = 'relu', kernel_initializer='glorot_uniform')(x)\n",
    "\n",
    "x = Dense(2000, activation = 'relu', kernel_initializer='glorot_uniform')(encoded)\n",
    "\n",
    "x = Dense(500, activation = 'relu', kernel_initializer='glorot_uniform')(x)\n",
    "\n",
    "decoded = Dense(12, kernel_initializer='glorot_uniform')(x)\n",
    "\n",
    "autoencoder = Model(input_df, decoded)\n",
    "\n",
    "encoder = Model(input_df, encoded)\n",
    "\n",
    "autoencoder.compile(optimizer = 'adam', loss = 'mean_squared_error')"
   ]
  },
  {
   "cell_type": "markdown",
   "metadata": {
    "id": "fX4hpyIiALgZ"
   },
   "source": [
    "### 2.2 Fit autoencoder"
   ]
  },
  {
   "cell_type": "code",
   "execution_count": null,
   "metadata": {
    "colab": {
     "base_uri": "https://localhost:8080/"
    },
    "id": "400CAey9rNQ3",
    "outputId": "ca0c20a8-0e1f-40e6-97ee-1acb31c63ffb"
   },
   "outputs": [
    {
     "name": "stdout",
     "output_type": "stream",
     "text": [
      "Epoch 1/30\n",
      "75/75 [==============================] - 3s 44ms/step - loss: 0.0344\n",
      "Epoch 2/30\n",
      "75/75 [==============================] - 3s 43ms/step - loss: 0.0325\n",
      "Epoch 3/30\n",
      "75/75 [==============================] - 3s 43ms/step - loss: 0.0333\n",
      "Epoch 4/30\n",
      "75/75 [==============================] - 3s 43ms/step - loss: 0.0304\n",
      "Epoch 5/30\n",
      "75/75 [==============================] - 3s 44ms/step - loss: 0.0283\n",
      "Epoch 6/30\n",
      "75/75 [==============================] - 3s 43ms/step - loss: 0.0285\n",
      "Epoch 7/30\n",
      "75/75 [==============================] - 3s 44ms/step - loss: 0.0303\n",
      "Epoch 8/30\n",
      "75/75 [==============================] - 3s 44ms/step - loss: 0.0248\n",
      "Epoch 9/30\n",
      "75/75 [==============================] - 3s 44ms/step - loss: 0.0239\n",
      "Epoch 10/30\n",
      "75/75 [==============================] - 3s 44ms/step - loss: 0.0217\n",
      "Epoch 11/30\n",
      "75/75 [==============================] - 3s 44ms/step - loss: 0.0221\n",
      "Epoch 12/30\n",
      "75/75 [==============================] - 3s 43ms/step - loss: 0.0214\n",
      "Epoch 13/30\n",
      "75/75 [==============================] - 3s 44ms/step - loss: 0.0245\n",
      "Epoch 14/30\n",
      "75/75 [==============================] - 3s 43ms/step - loss: 0.0248\n",
      "Epoch 15/30\n",
      "75/75 [==============================] - 3s 44ms/step - loss: 0.0201\n",
      "Epoch 16/30\n",
      "75/75 [==============================] - 3s 44ms/step - loss: 0.0197\n",
      "Epoch 17/30\n",
      "75/75 [==============================] - 3s 43ms/step - loss: 0.0193\n",
      "Epoch 18/30\n",
      "75/75 [==============================] - 3s 44ms/step - loss: 0.0193\n",
      "Epoch 19/30\n",
      "75/75 [==============================] - 3s 44ms/step - loss: 0.0250\n",
      "Epoch 20/30\n",
      "75/75 [==============================] - 3s 44ms/step - loss: 0.0221\n",
      "Epoch 21/30\n",
      "75/75 [==============================] - 3s 44ms/step - loss: 0.0238\n",
      "Epoch 22/30\n",
      "75/75 [==============================] - 3s 44ms/step - loss: 0.0275\n",
      "Epoch 23/30\n",
      "75/75 [==============================] - 3s 44ms/step - loss: 0.0227\n",
      "Epoch 24/30\n",
      "75/75 [==============================] - 3s 44ms/step - loss: 0.0205\n",
      "Epoch 25/30\n",
      "75/75 [==============================] - 3s 44ms/step - loss: 0.0165\n",
      "Epoch 26/30\n",
      "75/75 [==============================] - 3s 43ms/step - loss: 0.0160\n",
      "Epoch 27/30\n",
      "75/75 [==============================] - 3s 44ms/step - loss: 0.0170\n",
      "Epoch 28/30\n",
      "75/75 [==============================] - 3s 44ms/step - loss: 0.0164\n",
      "Epoch 29/30\n",
      "75/75 [==============================] - 3s 45ms/step - loss: 0.0136\n",
      "Epoch 30/30\n",
      "75/75 [==============================] - 3s 45ms/step - loss: 0.0131\n"
     ]
    },
    {
     "data": {
      "text/plain": [
       "<tensorflow.python.keras.callbacks.History at 0x7fbe4ddfded0>"
      ]
     },
     "execution_count": 31,
     "metadata": {
      "tags": []
     },
     "output_type": "execute_result"
    }
   ],
   "source": [
    "autoencoder.fit(scaled_df,scaled_df, batch_size= 120, epochs = 30, verbose = 1)"
   ]
  },
  {
   "cell_type": "code",
   "execution_count": null,
   "metadata": {
    "colab": {
     "base_uri": "https://localhost:8080/"
    },
    "id": "nHXdtzhIsItV",
    "outputId": "b74ea118-fc02-4080-fb33-b078c90da447"
   },
   "outputs": [
    {
     "name": "stdout",
     "output_type": "stream",
     "text": [
      "Model: \"model_2\"\n",
      "_________________________________________________________________\n",
      "Layer (type)                 Output Shape              Param #   \n",
      "=================================================================\n",
      "input_2 (InputLayer)         [(None, 12)]              0         \n",
      "_________________________________________________________________\n",
      "dense_8 (Dense)              (None, 7)                 91        \n",
      "_________________________________________________________________\n",
      "dense_9 (Dense)              (None, 500)               4000      \n",
      "_________________________________________________________________\n",
      "dense_10 (Dense)             (None, 500)               250500    \n",
      "_________________________________________________________________\n",
      "dense_11 (Dense)             (None, 2000)              1002000   \n",
      "_________________________________________________________________\n",
      "dense_12 (Dense)             (None, 10)                20010     \n",
      "_________________________________________________________________\n",
      "dense_13 (Dense)             (None, 2000)              22000     \n",
      "_________________________________________________________________\n",
      "dense_14 (Dense)             (None, 500)               1000500   \n",
      "_________________________________________________________________\n",
      "dense_15 (Dense)             (None, 12)                6012      \n",
      "=================================================================\n",
      "Total params: 2,305,113\n",
      "Trainable params: 2,305,113\n",
      "Non-trainable params: 0\n",
      "_________________________________________________________________\n"
     ]
    }
   ],
   "source": [
    "autoencoder.summary()"
   ]
  },
  {
   "cell_type": "markdown",
   "metadata": {
    "id": "QUPcgquAAaiB"
   },
   "source": [
    "### 2.3 Feature compression"
   ]
  },
  {
   "cell_type": "code",
   "execution_count": null,
   "metadata": {
    "colab": {
     "base_uri": "https://localhost:8080/"
    },
    "id": "pUsa98mJrNN1",
    "outputId": "4c15661a-a2f7-4da5-e14d-f19ff88556b9"
   },
   "outputs": [
    {
     "data": {
      "text/plain": [
       "(8950, 10)"
      ]
     },
     "execution_count": 33,
     "metadata": {
      "tags": []
     },
     "output_type": "execute_result"
    }
   ],
   "source": [
    "pred = encoder.predict(scaled_df)\n",
    "pred.shape"
   ]
  },
  {
   "cell_type": "markdown",
   "metadata": {
    "id": "6IMh4jolAfMz"
   },
   "source": [
    "# **3. Kmeans with encoded data**"
   ]
  },
  {
   "cell_type": "markdown",
   "metadata": {
    "id": "55be7IKyAvC4"
   },
   "source": [
    "### 3.1 Find the optimal cluster number & compare score1 and score2"
   ]
  },
  {
   "cell_type": "code",
   "execution_count": null,
   "metadata": {
    "id": "iPH58ohFrNKr"
   },
   "outputs": [],
   "source": [
    "score_2 = []\n",
    "range_values = range(1, 20)\n",
    "for i in range_values:\n",
    "    kmeans = KMeans(n_clusters = i)\n",
    "    kmeans.fit(pred)\n",
    "    score_2.append(kmeans.inertia_)\n",
    "  \n",
    "plt.plot(score_2, 'bx-', color = 'b', label = 'Compressed Data')\n",
    "plt.legend()"
   ]
  },
  {
   "cell_type": "code",
   "execution_count": null,
   "metadata": {
    "colab": {
     "background_save": true
    },
    "id": "bnmHhngyrNH1",
    "outputId": "3a342b59-c200-432d-94d7-0818125276e4"
   },
   "outputs": [
    {
     "data": {
      "image/png": "[encoded data removed]",
      "text/plain": [
       "<Figure size 432x288 with 1 Axes>"
      ]
     },
     "metadata": {
      "tags": []
     },
     "output_type": "display_data"
    }
   ],
   "source": [
    "# silhouette score\n",
    "silhouette_scores = []\n",
    "\n",
    "for n_cluster in range(2, 11):\n",
    "    silhouette_scores.append(silhouette_score(pred, KMeans(n_clusters = n_cluster).fit_predict(pred))) \n",
    "    \n",
    "# Plotting a bar graph to compare the results \n",
    "k = [2, 3, 4, 5, 6, 7,8,9,10] \n",
    "\n",
    "plt.bar(k, silhouette_scores) \n",
    "plt.xlabel('Number of clusters', fontsize = 10) \n",
    "plt.ylabel('Silhouette Score', fontsize = 10) \n",
    "plt.show() "
   ]
  },
  {
   "cell_type": "markdown",
   "metadata": {
    "id": "GqhzwVgEBC7v"
   },
   "source": [
    "Highest silhouette score is k = 2"
   ]
  },
  {
   "cell_type": "markdown",
   "metadata": {
    "id": "vh_SFwoDDoXc"
   },
   "source": [
    "## **K=4**"
   ]
  },
  {
   "cell_type": "code",
   "execution_count": null,
   "metadata": {
    "colab": {
     "base_uri": "https://localhost:8080/",
     "height": 334
    },
    "id": "M2vX0GOvzfm8",
    "outputId": "d3e4d4ee-375d-4f4a-a189-cd626e665ca7"
   },
   "outputs": [
    {
     "data": {
      "image/png": "[encoded data removed]",
      "text/plain": [
       "<Figure size 576x360 with 1 Axes>"
      ]
     },
     "metadata": {
      "tags": []
     },
     "output_type": "display_data"
    }
   ],
   "source": [
    "# Kmeans algorithm\n",
    "kmean= KMeans(n_clusters=5,init='k-means++')\n",
    "kmean.fit(pred)\n",
    "labels=kmean.labels_\n",
    "\n",
    "\n",
    "# PCA to transform data to 2 dimensions for visualization\n",
    "pca = PCA(n_components=2)\n",
    "principalComponents = pca.fit_transform(pred)\n",
    "principalDf = pd.DataFrame(data = principalComponents, columns=['principal component 1', 'principal component 2'])\n",
    "finalDf = pd.concat([principalDf, pd.DataFrame({'cluster':labels})], axis = 1)\n",
    "\n",
    "# scatterplot\n",
    "plt.figure(figsize=(8,5))\n",
    "ax = sns.scatterplot( data=finalDf,x=\"principal component 1\", y=\"principal component 2\", hue=\"cluster\",palette=['red','blue','green','black','yellow'])\n",
    "plt.show()"
   ]
  },
  {
   "cell_type": "code",
   "execution_count": null,
   "metadata": {
    "colab": {
     "base_uri": "https://localhost:8080/",
     "height": 204
    },
    "id": "kzsVBf6mk4GE",
    "outputId": "95ecef4a-3efb-444c-ab01-708e9fca3493"
   },
   "outputs": [
    {
     "data": {
      "text/html": [
       "<div>\n",
       "<style scoped>\n",
       "    .dataframe tbody tr th:only-of-type {\n",
       "        vertical-align: middle;\n",
       "    }\n",
       "\n",
       "    .dataframe tbody tr th {\n",
       "        vertical-align: top;\n",
       "    }\n",
       "\n",
       "    .dataframe thead th {\n",
       "        text-align: right;\n",
       "    }\n",
       "</style>\n",
       "<table border=\"1\" class=\"dataframe\">\n",
       "  <thead>\n",
       "    <tr style=\"text-align: right;\">\n",
       "      <th></th>\n",
       "      <th>BALANCE</th>\n",
       "      <th>PURCHASES</th>\n",
       "      <th>INSTALLMENTS_PURCHASES</th>\n",
       "      <th>CASH_ADVANCE</th>\n",
       "      <th>CREDIT_LIMIT</th>\n",
       "      <th>PAYMENTS</th>\n",
       "    </tr>\n",
       "  </thead>\n",
       "  <tbody>\n",
       "    <tr>\n",
       "      <th>0</th>\n",
       "      <td>40.90</td>\n",
       "      <td>95.40</td>\n",
       "      <td>95.4</td>\n",
       "      <td>0.00</td>\n",
       "      <td>1000.0</td>\n",
       "      <td>201.80</td>\n",
       "    </tr>\n",
       "    <tr>\n",
       "      <th>1</th>\n",
       "      <td>3202.47</td>\n",
       "      <td>0.00</td>\n",
       "      <td>0.0</td>\n",
       "      <td>6442.95</td>\n",
       "      <td>7000.0</td>\n",
       "      <td>4103.03</td>\n",
       "    </tr>\n",
       "    <tr>\n",
       "      <th>2</th>\n",
       "      <td>2495.15</td>\n",
       "      <td>773.17</td>\n",
       "      <td>0.0</td>\n",
       "      <td>0.00</td>\n",
       "      <td>7500.0</td>\n",
       "      <td>622.07</td>\n",
       "    </tr>\n",
       "    <tr>\n",
       "      <th>3</th>\n",
       "      <td>1666.67</td>\n",
       "      <td>1499.00</td>\n",
       "      <td>0.0</td>\n",
       "      <td>205.79</td>\n",
       "      <td>7500.0</td>\n",
       "      <td>0.00</td>\n",
       "    </tr>\n",
       "    <tr>\n",
       "      <th>4</th>\n",
       "      <td>817.71</td>\n",
       "      <td>16.00</td>\n",
       "      <td>0.0</td>\n",
       "      <td>0.00</td>\n",
       "      <td>1200.0</td>\n",
       "      <td>678.33</td>\n",
       "    </tr>\n",
       "  </tbody>\n",
       "</table>\n",
       "</div>"
      ],
      "text/plain": [
       "   BALANCE  PURCHASES  ...  CREDIT_LIMIT  PAYMENTS\n",
       "0    40.90      95.40  ...        1000.0    201.80\n",
       "1  3202.47       0.00  ...        7000.0   4103.03\n",
       "2  2495.15     773.17  ...        7500.0    622.07\n",
       "3  1666.67    1499.00  ...        7500.0      0.00\n",
       "4   817.71      16.00  ...        1200.0    678.33\n",
       "\n",
       "[5 rows x 6 columns]"
      ]
     },
     "execution_count": 14,
     "metadata": {
      "tags": []
     },
     "output_type": "execute_result"
    }
   ],
   "source": [
    "df.head()"
   ]
  },
  {
   "cell_type": "code",
   "execution_count": null,
   "metadata": {
    "colab": {
     "base_uri": "https://localhost:8080/",
     "height": 465
    },
    "id": "Veq9QMl-0jMQ",
    "outputId": "44a8b6f1-5e3d-4408-cc2e-0302ee5c7da4"
   },
   "outputs": [
    {
     "name": "stdout",
     "output_type": "stream",
     "text": [
      "1    6420\n",
      "3    1184\n",
      "2     936\n",
      "4     351\n",
      "0      59\n",
      "Name: cluster, dtype: int64\n"
     ]
    },
    {
     "data": {
      "text/plain": [
       "Text(0.5, 0, 'SEGMENTS')"
      ]
     },
     "execution_count": 15,
     "metadata": {
      "tags": []
     },
     "output_type": "execute_result"
    },
    {
     "data": {
      "image/png": "[encoded data removed]",
      "text/plain": [
       "<Figure size 1080x360 with 1 Axes>"
      ]
     },
     "metadata": {
      "tags": []
     },
     "output_type": "display_data"
    }
   ],
   "source": [
    "# Cluster feature visualization\n",
    "clusters=pd.concat([df, pd.DataFrame({'cluster':labels})], axis=1)\n",
    "print(clusters['cluster'].value_counts())\n",
    "(clusters[['BALANCE', 'PURCHASES',\n",
    "           'INSTALLMENTS_PURCHASES', 'CASH_ADVANCE','CREDIT_LIMIT', 'PAYMENTS', \n",
    "            'cluster']]\n",
    " .groupby('cluster').mean().plot.bar(figsize=(15, 5)))\n",
    "plt.title('Purchase Behavior of various segments')\n",
    "plt.xlabel('SEGMENTS')"
   ]
  },
  {
   "cell_type": "markdown",
   "metadata": {
    "id": "CJriqprQa87I"
   },
   "source": [
    "### Conclusion\n",
    "\n",
    "\n",
    "* **Cluster 0 :**This customer group indicates a small group of customers who have medium balances, spenders (high purchase) with the highest payment and cross their credit limit (100+)\n",
    "\n",
    "* **Cluster 1 :** This customer group indicates a small group of customers who have high balances and cash advances, low purchase frequency with low credit limit. We can assume that this customer segment uses their credit cards as a loan. (2000+)\n",
    "\n",
    "* **Cluster 2 :** This customer group indicates a small group of customers who have medium balances, spenders (high purchase) with the highest credit limit.\n",
    "(1000+)\n",
    "\n",
    "* **Cluster 3 :** This customer group indicates a large group of customers who have low balances, low purchase frequency and high payment frequency.(5000+)"
   ]
  },
  {
   "cell_type": "code",
   "execution_count": null,
   "metadata": {
    "colab": {
     "base_uri": "https://localhost:8080/",
     "height": 204
    },
    "id": "IKDWMxzHdjGe",
    "outputId": "bdcdcbc5-9992-4d0c-a413-833c2caecf7d"
   },
   "outputs": [
    {
     "data": {
      "text/html": [
       "<div>\n",
       "<style scoped>\n",
       "    .dataframe tbody tr th:only-of-type {\n",
       "        vertical-align: middle;\n",
       "    }\n",
       "\n",
       "    .dataframe tbody tr th {\n",
       "        vertical-align: top;\n",
       "    }\n",
       "\n",
       "    .dataframe thead th {\n",
       "        text-align: right;\n",
       "    }\n",
       "</style>\n",
       "<table border=\"1\" class=\"dataframe\">\n",
       "  <thead>\n",
       "    <tr style=\"text-align: right;\">\n",
       "      <th></th>\n",
       "      <th>BALANCE</th>\n",
       "      <th>PURCHASES</th>\n",
       "      <th>INSTALLMENTS_PURCHASES</th>\n",
       "      <th>CASH_ADVANCE</th>\n",
       "      <th>CREDIT_LIMIT</th>\n",
       "      <th>PAYMENTS</th>\n",
       "      <th>cluster</th>\n",
       "    </tr>\n",
       "  </thead>\n",
       "  <tbody>\n",
       "    <tr>\n",
       "      <th>0</th>\n",
       "      <td>40.90</td>\n",
       "      <td>95.40</td>\n",
       "      <td>95.4</td>\n",
       "      <td>0.00</td>\n",
       "      <td>1000.0</td>\n",
       "      <td>201.80</td>\n",
       "      <td>1</td>\n",
       "    </tr>\n",
       "    <tr>\n",
       "      <th>1</th>\n",
       "      <td>3202.47</td>\n",
       "      <td>0.00</td>\n",
       "      <td>0.0</td>\n",
       "      <td>6442.95</td>\n",
       "      <td>7000.0</td>\n",
       "      <td>4103.03</td>\n",
       "      <td>3</td>\n",
       "    </tr>\n",
       "    <tr>\n",
       "      <th>2</th>\n",
       "      <td>2495.15</td>\n",
       "      <td>773.17</td>\n",
       "      <td>0.0</td>\n",
       "      <td>0.00</td>\n",
       "      <td>7500.0</td>\n",
       "      <td>622.07</td>\n",
       "      <td>1</td>\n",
       "    </tr>\n",
       "    <tr>\n",
       "      <th>3</th>\n",
       "      <td>1666.67</td>\n",
       "      <td>1499.00</td>\n",
       "      <td>0.0</td>\n",
       "      <td>205.79</td>\n",
       "      <td>7500.0</td>\n",
       "      <td>0.00</td>\n",
       "      <td>1</td>\n",
       "    </tr>\n",
       "    <tr>\n",
       "      <th>4</th>\n",
       "      <td>817.71</td>\n",
       "      <td>16.00</td>\n",
       "      <td>0.0</td>\n",
       "      <td>0.00</td>\n",
       "      <td>1200.0</td>\n",
       "      <td>678.33</td>\n",
       "      <td>1</td>\n",
       "    </tr>\n",
       "  </tbody>\n",
       "</table>\n",
       "</div>"
      ],
      "text/plain": [
       "   BALANCE  PURCHASES  INSTALLMENTS_PURCHASES  ...  CREDIT_LIMIT  PAYMENTS  cluster\n",
       "0    40.90      95.40                    95.4  ...        1000.0    201.80        1\n",
       "1  3202.47       0.00                     0.0  ...        7000.0   4103.03        3\n",
       "2  2495.15     773.17                     0.0  ...        7500.0    622.07        1\n",
       "3  1666.67    1499.00                     0.0  ...        7500.0      0.00        1\n",
       "4   817.71      16.00                     0.0  ...        1200.0    678.33        1\n",
       "\n",
       "[5 rows x 7 columns]"
      ]
     },
     "execution_count": 16,
     "metadata": {
      "tags": []
     },
     "output_type": "execute_result"
    }
   ],
   "source": [
    "from sklearn import preprocessing\n",
    "from sklearn.model_selection import train_test_split\n",
    "from sklearn.model_selection import cross_validate\n",
    "from sklearn.neighbors import KNeighborsClassifier\n",
    "\n",
    "clusters.head()"
   ]
  },
  {
   "cell_type": "code",
   "execution_count": null,
   "metadata": {
    "colab": {
     "base_uri": "https://localhost:8080/",
     "height": 204
    },
    "id": "PfIdZFOidpXc",
    "outputId": "35302f26-f1bd-441b-f10b-6eace449b3fe"
   },
   "outputs": [
    {
     "data": {
      "text/html": [
       "<div>\n",
       "<style scoped>\n",
       "    .dataframe tbody tr th:only-of-type {\n",
       "        vertical-align: middle;\n",
       "    }\n",
       "\n",
       "    .dataframe tbody tr th {\n",
       "        vertical-align: top;\n",
       "    }\n",
       "\n",
       "    .dataframe thead th {\n",
       "        text-align: right;\n",
       "    }\n",
       "</style>\n",
       "<table border=\"1\" class=\"dataframe\">\n",
       "  <thead>\n",
       "    <tr style=\"text-align: right;\">\n",
       "      <th></th>\n",
       "      <th>BALANCE</th>\n",
       "      <th>PURCHASES</th>\n",
       "      <th>INSTALLMENTS_PURCHASES</th>\n",
       "      <th>CASH_ADVANCE</th>\n",
       "      <th>CREDIT_LIMIT</th>\n",
       "      <th>PAYMENTS</th>\n",
       "    </tr>\n",
       "  </thead>\n",
       "  <tbody>\n",
       "    <tr>\n",
       "      <th>0</th>\n",
       "      <td>40.90</td>\n",
       "      <td>95.40</td>\n",
       "      <td>95.4</td>\n",
       "      <td>0.00</td>\n",
       "      <td>1000.0</td>\n",
       "      <td>201.80</td>\n",
       "    </tr>\n",
       "    <tr>\n",
       "      <th>1</th>\n",
       "      <td>3202.47</td>\n",
       "      <td>0.00</td>\n",
       "      <td>0.0</td>\n",
       "      <td>6442.95</td>\n",
       "      <td>7000.0</td>\n",
       "      <td>4103.03</td>\n",
       "    </tr>\n",
       "    <tr>\n",
       "      <th>2</th>\n",
       "      <td>2495.15</td>\n",
       "      <td>773.17</td>\n",
       "      <td>0.0</td>\n",
       "      <td>0.00</td>\n",
       "      <td>7500.0</td>\n",
       "      <td>622.07</td>\n",
       "    </tr>\n",
       "    <tr>\n",
       "      <th>3</th>\n",
       "      <td>1666.67</td>\n",
       "      <td>1499.00</td>\n",
       "      <td>0.0</td>\n",
       "      <td>205.79</td>\n",
       "      <td>7500.0</td>\n",
       "      <td>0.00</td>\n",
       "    </tr>\n",
       "    <tr>\n",
       "      <th>4</th>\n",
       "      <td>817.71</td>\n",
       "      <td>16.00</td>\n",
       "      <td>0.0</td>\n",
       "      <td>0.00</td>\n",
       "      <td>1200.0</td>\n",
       "      <td>678.33</td>\n",
       "    </tr>\n",
       "  </tbody>\n",
       "</table>\n",
       "</div>"
      ],
      "text/plain": [
       "   BALANCE  PURCHASES  ...  CREDIT_LIMIT  PAYMENTS\n",
       "0    40.90      95.40  ...        1000.0    201.80\n",
       "1  3202.47       0.00  ...        7000.0   4103.03\n",
       "2  2495.15     773.17  ...        7500.0    622.07\n",
       "3  1666.67    1499.00  ...        7500.0      0.00\n",
       "4   817.71      16.00  ...        1200.0    678.33\n",
       "\n",
       "[5 rows x 6 columns]"
      ]
     },
     "execution_count": 17,
     "metadata": {
      "tags": []
     },
     "output_type": "execute_result"
    }
   ],
   "source": [
    "# Putting feature variable to X\n",
    "X = clusters.drop(['cluster'], axis=1)\n",
    "X.round({\"BALANCE\":2, \"PURCHASES\":2, \"INSTALLMENTS_PURCHASES\":2, \"CASH_ADVANCE\":2,\"CREDIT_LIMIT\":2,\"PAYMENTS\":2})\n",
    "\n",
    "X.head()"
   ]
  },
  {
   "cell_type": "code",
   "execution_count": null,
   "metadata": {
    "colab": {
     "base_uri": "https://localhost:8080/"
    },
    "id": "Cgyqipoxdpac",
    "outputId": "c3de4a3c-8be4-4f44-fba0-17ac24e8e4cc"
   },
   "outputs": [
    {
     "data": {
      "text/plain": [
       "0    1\n",
       "1    3\n",
       "2    1\n",
       "3    1\n",
       "4    1\n",
       "Name: cluster, dtype: int32"
      ]
     },
     "execution_count": 18,
     "metadata": {
      "tags": []
     },
     "output_type": "execute_result"
    }
   ],
   "source": [
    "y = clusters['cluster']\n",
    "y.head()"
   ]
  },
  {
   "cell_type": "code",
   "execution_count": null,
   "metadata": {
    "colab": {
     "base_uri": "https://localhost:8080/"
    },
    "id": "8kKXJL5ldpds",
    "outputId": "9f26bb1f-97ab-4201-fa0b-399d25916948"
   },
   "outputs": [
    {
     "name": "stdout",
     "output_type": "stream",
     "text": [
      "0.9710893854748603\n"
     ]
    }
   ],
   "source": [
    "# Splitting the data into train and test\n",
    "X_train, X_test, y_train, y_test = train_test_split(X, y, test_size=0.2, random_state=100)\n",
    "clf=KNeighborsClassifier(n_neighbors=4)\n",
    "clf.fit(X_train, y_train)\n",
    "accuracy=clf.score(X_train, y_train)\n",
    "print(accuracy)"
   ]
  },
  {
   "cell_type": "code",
   "execution_count": null,
   "metadata": {
    "colab": {
     "base_uri": "https://localhost:8080/"
    },
    "id": "LNlPaxYLdphb",
    "outputId": "2c03b2a9-7f4c-491f-cd90-dab9259040ea"
   },
   "outputs": [
    {
     "name": "stdout",
     "output_type": "stream",
     "text": [
      "[1]\n"
     ]
    }
   ],
   "source": [
    "example = np.array([[40.900749,95.40,95.0,0.000000,1000.0,201.802084]])\n",
    "prediction=clf.predict(example)\n",
    "print(prediction)"
   ]
  },
  {
   "cell_type": "code",
   "execution_count": null,
   "metadata": {
    "colab": {
     "base_uri": "https://localhost:8080/"
    },
    "id": "hJKB2n9Ed5pF",
    "outputId": "2ed2c1da-a72d-4a0f-87ac-ef181d3f96cd"
   },
   "outputs": [
    {
     "name": "stdout",
     "output_type": "stream",
     "text": [
      "[[0. 1. 0. 0. 0.]]\n"
     ]
    }
   ],
   "source": [
    "prob=clf.predict_proba(example)\n",
    "print(prob)"
   ]
  },
  {
   "cell_type": "code",
   "execution_count": null,
   "metadata": {
    "id": "iuwcWdBpeQIE"
   },
   "outputs": [],
   "source": [
    "# Here, we will save the 'lr' model to disk as 'model.py'\n",
    "\n",
    "import pickle\n",
    "\n",
    "pickle.dump(clf,open('ModelTwo.pkl','wb'))\n",
    "# Dump this model by the name \"model.py\" in the systems HDD and while doing this\n",
    "# write this file using \"write bytes\" mode."
   ]
  }
 ],
 "metadata": {
  "colab": {
   "collapsed_sections": [],
   "name": "AutoencoderKmeans.ipynb",
   "provenance": []
  },
  "kernelspec": {
   "display_name": "Python 3",
   "language": "python",
   "name": "python3"
  },
  "language_info": {
   "codemirror_mode": {
    "name": "ipython",
    "version": 3
   },
   "file_extension": ".py",
   "mimetype": "text/x-python",
   "name": "python",
   "nbconvert_exporter": "python",
   "pygments_lexer": "ipython3",
   "version": "3.8.8"
  }
 },
 "nbformat": 4,
 "nbformat_minor": 1
}
